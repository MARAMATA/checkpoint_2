{
 "cells": [
  {
   "cell_type": "markdown",
   "id": "dcd69a16",
   "metadata": {},
   "source": [
    "# QUESTION1:"
   ]
  },
  {
   "cell_type": "code",
   "execution_count": 1,
   "id": "396d5827",
   "metadata": {},
   "outputs": [
    {
     "name": "stdout",
     "output_type": "stream",
     "text": [
      "36\n"
     ]
    }
   ],
   "source": [
    "liste = [2, 3, 6]\n",
    "produit = 1 #initialisation du produit à 1\n",
    "for i in range(len(liste)): #parcourir tous les éléments de la liste en utilisant l'indice i\n",
    "    produit *= liste[i]  \n",
    "print(produit)\n"
   ]
  },
  {
   "cell_type": "markdown",
   "id": "245d97de",
   "metadata": {},
   "source": [
    "# QUESTION2:"
   ]
  },
  {
   "cell_type": "code",
   "execution_count": 2,
   "id": "2e6340c8",
   "metadata": {},
   "outputs": [
    {
     "name": "stdout",
     "output_type": "stream",
     "text": [
      "[(2, 1), (1, 2), (2, 3), (4, 4), (2, 5)]\n"
     ]
    }
   ],
   "source": [
    "liste_tuple = [(2, 5), (1, 2), (4, 4), (2, 3), (2, 1)]\n",
    "\"\"\"Utilisation de la fonction sorted() pour trier la liste de tuples.\n",
    "Ensuite, passer une fonction lambda à sorted() pour spécifier la clé de tri, \n",
    "qui retourne l'élément à l'indice -1 de chaque tuple \n",
    "(c'est-à-dire la dernière valeur).\"\"\"\n",
    "liste_tuple_arrange = sorted(liste_tuple, key= lambda x: x[-1])\n",
    "print(liste_tuple_arrange)\n"
   ]
  },
  {
   "cell_type": "markdown",
   "id": "ae8debde",
   "metadata": {},
   "source": [
    "# QUESTION3:"
   ]
  },
  {
   "cell_type": "code",
   "execution_count": 4,
   "id": "6efc20c9",
   "metadata": {},
   "outputs": [
    {
     "name": "stdout",
     "output_type": "stream",
     "text": [
      "{'a': 400, 'b': 400, 'c': 300}\n"
     ]
    }
   ],
   "source": [
    "d1 = {'a': 100, 'b': 200, 'c':300}\n",
    "d2 = {'a': 300, 'b': 200, 'd':400}\n",
    "\"\"\" Pour chaque clé dans d1,\n",
    "vérifier si la clé est également présente dans d2,\n",
    "si oui, ajouter les valeurs correspondantes \n",
    "et stocker le résultat dans d1\"\"\"\n",
    "for clé in d1:\n",
    "    if clé in d2:\n",
    "        d1[clé] += d2[clé]\n",
    "        \n",
    "print(d1)\n",
    "\n"
   ]
  },
  {
   "cell_type": "markdown",
   "id": "87a5f061",
   "metadata": {},
   "source": [
    "# QUESTION4"
   ]
  },
  {
   "cell_type": "code",
   "execution_count": 5,
   "id": "d8cc631f",
   "metadata": {},
   "outputs": [
    {
     "name": "stdout",
     "output_type": "stream",
     "text": [
      "Entrez un nombre entier: 8\n",
      "{1: 1, 2: 4, 3: 9, 4: 16, 5: 25, 6: 36, 7: 49, 8: 64}\n"
     ]
    }
   ],
   "source": [
    "n = int(input(\"Entrez un nombre entier: \"))\n",
    "\n",
    "# initialiser un dictionnaire vide pour stocker les carrés\n",
    "dict = {}\n",
    "\n",
    "# boucler de 1 à n (inclus)\n",
    "for i in range(1, n+1):\n",
    "    # ajouter i comme clé et i*i comme valeur au dictionnaire\n",
    "    dict[i] = i*i\n",
    "\n",
    "print(dict)"
   ]
  },
  {
   "cell_type": "markdown",
   "id": "cccf3cb6",
   "metadata": {},
   "source": [
    "# QUESTION5:"
   ]
  },
  {
   "cell_type": "code",
   "execution_count": 1,
   "id": "9077f0d7",
   "metadata": {},
   "outputs": [
    {
     "name": "stdout",
     "output_type": "stream",
     "text": [
      "[('item3', '24.5'), ('item2', '15.10'), ('item1', '12.20')]\n"
     ]
    }
   ],
   "source": [
    "tuples = [('item1', '12.20'), ('item2', '15.10'), ('item3', '24.5')]\n",
    "\n",
    "# On utilise la fonction sorted() de Python pour trier la liste de tuples par son élément float\n",
    "\"\"\"On passe un argument key qui est une fonction lambda qui extrait le deuxième élément du tuple \n",
    "et le convertit en float avec la fonction float()\"\"\"\n",
    "# On passe également l'argument reverse=True pour trier la liste dans l'ordre décroissant\n",
    "sorted_tuples = sorted(tuples, key=lambda x: float(x[1]), reverse=True)\n",
    "\n",
    "# On imprime la liste triée\n",
    "print(sorted_tuples)\n"
   ]
  },
  {
   "cell_type": "markdown",
   "id": "c6479c92",
   "metadata": {},
   "source": [
    "# QUESTION6:"
   ]
  },
  {
   "cell_type": "code",
   "execution_count": 11,
   "id": "7eba3ab0",
   "metadata": {},
   "outputs": [
    {
     "name": "stdout",
     "output_type": "stream",
     "text": [
      "0\n",
      "1\n",
      "2\n",
      "3\n",
      "4\n",
      "{1, 2, 3, 4, 5, 6}\n"
     ]
    }
   ],
   "source": [
    "# Créer un ensemble en utilisant la notation d'ensemble\n",
    "ensemble = {0, 1, 2, 3, 4}\n",
    "\n",
    "# Itérer sur les éléments de l'ensemble avec une boucle for\n",
    "for element in ensemble:\n",
    "    print(element)\n",
    "\n",
    "# Ajouter des éléments à l'ensemble avec la méthode add()\n",
    "ensemble.add(5)\n",
    "ensemble.add(6)\n",
    "\n",
    "# Supprimer des éléments de l'ensemble avec la méthode remove()\n",
    "ensemble.remove(0)\n",
    "\n",
    "# Imprimer l'ensemble mis à jour\n",
    "print(ensemble)"
   ]
  }
 ],
 "metadata": {
  "kernelspec": {
   "display_name": "Python 3 (ipykernel)",
   "language": "python",
   "name": "python3"
  },
  "language_info": {
   "codemirror_mode": {
    "name": "ipython",
    "version": 3
   },
   "file_extension": ".py",
   "mimetype": "text/x-python",
   "name": "python",
   "nbconvert_exporter": "python",
   "pygments_lexer": "ipython3",
   "version": "3.9.13"
  }
 },
 "nbformat": 4,
 "nbformat_minor": 5
}
